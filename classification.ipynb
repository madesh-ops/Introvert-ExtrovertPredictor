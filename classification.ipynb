{
 "cells": [
  {
   "cell_type": "code",
   "execution_count": 1,
   "id": "f59c5568-f7d4-4623-a7f3-940556c20a42",
   "metadata": {},
   "outputs": [],
   "source": [
    "import numpy as np\n",
    "import pandas as pd \n",
    "import pickle"
   ]
  },
  {
   "cell_type": "code",
   "execution_count": 2,
   "id": "b064fa33-2bd3-4bb5-ac2b-644a3d174edd",
   "metadata": {},
   "outputs": [],
   "source": [
    "dataset = pd.read_csv(\"personality_dataset.csv\")"
   ]
  },
  {
   "cell_type": "code",
   "execution_count": 3,
   "id": "b4aff0a6-63f1-4f33-affa-129ef5f4225a",
   "metadata": {},
   "outputs": [
    {
     "name": "stdout",
     "output_type": "stream",
     "text": [
      "Time_spent_Alone             63\n",
      "Stage_fear                   73\n",
      "Social_event_attendance      62\n",
      "Going_outside                66\n",
      "Drained_after_socializing    52\n",
      "Friends_circle_size          77\n",
      "Post_frequency               65\n",
      "Personality                   0\n",
      "dtype: int64\n"
     ]
    }
   ],
   "source": [
    "print(dataset.isnull().sum())"
   ]
  },
  {
   "cell_type": "code",
   "execution_count": 4,
   "id": "210ed051-619d-43f0-8350-da17bae7582c",
   "metadata": {},
   "outputs": [],
   "source": [
    "from sklearn.preprocessing import LabelEncoder\n",
    "\n",
    "le1 = LabelEncoder()\n",
    "le2 = LabelEncoder()\n",
    "\n",
    "dataset.iloc[:, 1] = le1.fit_transform(dataset.iloc[:, 1])\n",
    "dataset.iloc[:, 4] = le2.fit_transform(dataset.iloc[:, 4])\n",
    "\n",
    "# After fitting\n",
    "\n",
    "pickle.dump(le1, open(\"le1.pkl\", \"wb\"))\n",
    "pickle.dump(le2, open(\"le2.pkl\", \"wb\"))\n",
    "\n"
   ]
  },
  {
   "cell_type": "code",
   "execution_count": 5,
   "id": "68cc679e-95e4-4cfe-b86e-1f6c734c7c78",
   "metadata": {},
   "outputs": [],
   "source": [
    "from sklearn.impute import SimpleImputer\n",
    "imputer = SimpleImputer(missing_values=np.nan, strategy='mean')\n",
    "imputer.fit(dataset.iloc[:, 0:7])\n",
    "dataset.iloc[:, 0:7] = imputer.transform(dataset.iloc[:, 0:7])"
   ]
  },
  {
   "cell_type": "code",
   "execution_count": 6,
   "id": "467f18f1-50e2-4ab9-9616-f53229fbe4b9",
   "metadata": {},
   "outputs": [],
   "source": [
    "X = dataset.iloc[:, :-1].values\n",
    "y = dataset.iloc[:, -1].values"
   ]
  },
  {
   "cell_type": "code",
   "execution_count": 7,
   "id": "b39be2b8-20bf-4d7f-ae50-dec83ddd7512",
   "metadata": {},
   "outputs": [],
   "source": [
    "from sklearn.preprocessing import LabelEncoder\n",
    "le3 = LabelEncoder()\n",
    "y = le3.fit_transform(y)\n",
    "pickle.dump(le3, open(\"le3.pkl\", \"wb\"))"
   ]
  },
  {
   "cell_type": "code",
   "execution_count": 8,
   "id": "fce2be47-b9ce-4812-a0f6-c3de8c695213",
   "metadata": {},
   "outputs": [
    {
     "name": "stdout",
     "output_type": "stream",
     "text": [
      "[0 1 1 ... 1 1 0]\n"
     ]
    }
   ],
   "source": [
    "print(y)"
   ]
  },
  {
   "cell_type": "code",
   "execution_count": 9,
   "id": "48ef1866-5b73-4142-a7f2-6acdbc6d3795",
   "metadata": {},
   "outputs": [
    {
     "name": "stdout",
     "output_type": "stream",
     "text": [
      "[[4.0 0.0 4.0 ... 0.0 13.0 5.0]\n",
      " [9.0 1.0 0.0 ... 1.0 0.0 3.0]\n",
      " [9.0 1.0 1.0 ... 1.0 5.0 2.0]\n",
      " ...\n",
      " [4.0 1.0 1.0 ... 1.0 4.0 0.0]\n",
      " [11.0 1.0 1.0 ... 1.0 2.0 0.0]\n",
      " [3.0 0.0 6.0 ... 0.0 6.0 9.0]]\n"
     ]
    }
   ],
   "source": [
    "print(X)"
   ]
  },
  {
   "cell_type": "code",
   "execution_count": 10,
   "id": "eaea00c2-fcac-4ef6-ab2b-8b364e1a0d49",
   "metadata": {},
   "outputs": [
    {
     "name": "stdout",
     "output_type": "stream",
     "text": [
      "[0 1 1 ... 1 1 0]\n"
     ]
    }
   ],
   "source": [
    "print(y)"
   ]
  },
  {
   "cell_type": "code",
   "execution_count": 11,
   "id": "0f3a8710-ead8-4e23-9515-ac8d60bbe11c",
   "metadata": {},
   "outputs": [],
   "source": [
    "from sklearn.model_selection import train_test_split\n",
    "X_train, X_test, y_train, y_test = train_test_split(X, y, test_size = 0.25, random_state = 0)"
   ]
  },
  {
   "cell_type": "code",
   "execution_count": 12,
   "id": "2eb82980-6223-4ac7-a5e1-97fcc31b8d8d",
   "metadata": {},
   "outputs": [
    {
     "name": "stdout",
     "output_type": "stream",
     "text": [
      "[[8.0 1.0 1.0 ... 1.0 1.0 1.0]\n",
      " [7.0 1.0 2.0 ... 1.0 1.0 2.0]\n",
      " [9.0 1.0 1.0 ... 1.0 4.0 1.0]\n",
      " ...\n",
      " [6.0 1.0 1.0 ... 2.0 5.0 2.0]\n",
      " [10.0 1.0 3.0 ... 1.0 1.0 2.0]\n",
      " [11.0 1.0 1.0 ... 1.0 2.0 2.0]]\n"
     ]
    }
   ],
   "source": [
    "print(X_train)"
   ]
  },
  {
   "cell_type": "code",
   "execution_count": 13,
   "id": "739d5b9a-920f-4d17-b3a8-1576b53e72be",
   "metadata": {},
   "outputs": [],
   "source": [
    "from sklearn.preprocessing import StandardScaler\n",
    "sc = StandardScaler()\n",
    "X_train = sc.fit_transform(X_train)\n",
    "X_test = sc.transform(X_test)\n",
    "pickle.dump(sc, open(\"scaler.pkl\", \"wb\"))"
   ]
  },
  {
   "cell_type": "code",
   "execution_count": 14,
   "id": "f8ff036e-69a2-453f-94de-559ce1889217",
   "metadata": {},
   "outputs": [],
   "source": [
    "from sklearn.linear_model import LogisticRegression\n",
    "classifier = LogisticRegression(random_state = 0)\n",
    "classifier.fit(X_train, y_train)\n",
    "pickle.dump(classifier,open(\"model.pkl\",\"wb\"))"
   ]
  },
  {
   "cell_type": "code",
   "execution_count": 15,
   "id": "4ecf3613-390d-4694-afce-eeb323527963",
   "metadata": {},
   "outputs": [
    {
     "name": "stdout",
     "output_type": "stream",
     "text": [
      "[[0 1]\n",
      " [1 1]\n",
      " [0 0]\n",
      " ...\n",
      " [1 1]\n",
      " [0 0]\n",
      " [0 0]]\n"
     ]
    }
   ],
   "source": [
    "y_pred = classifier.predict(X_test)\n",
    "print(np.concatenate((y_pred.reshape(len(y_pred),1), y_test.reshape(len(y_test),1)),1))"
   ]
  },
  {
   "cell_type": "code",
   "execution_count": 16,
   "id": "e0062ca4-4fbe-4236-a811-54967b5ff034",
   "metadata": {},
   "outputs": [
    {
     "name": "stdout",
     "output_type": "stream",
     "text": [
      "[[325  21]\n",
      " [ 29 350]]\n"
     ]
    }
   ],
   "source": [
    "from sklearn.metrics import confusion_matrix, accuracy_score\n",
    "cm = confusion_matrix(y_test, y_pred)\n",
    "print(cm)\n"
   ]
  },
  {
   "cell_type": "code",
   "execution_count": 17,
   "id": "37b008fa-9d75-44cf-aaae-20ed1ff9b53e",
   "metadata": {},
   "outputs": [
    {
     "data": {
      "text/plain": [
       "0.9310344827586207"
      ]
     },
     "execution_count": 17,
     "metadata": {},
     "output_type": "execute_result"
    }
   ],
   "source": [
    "accuracy_score(y_test, y_pred)"
   ]
  },
  {
   "cell_type": "code",
   "execution_count": null,
   "id": "70fc972a-57a4-46ea-80fc-f97ae2dfb033",
   "metadata": {},
   "outputs": [],
   "source": []
  },
  {
   "cell_type": "code",
   "execution_count": null,
   "id": "cc6cbff4-9898-4596-8ee4-65d841d16cda",
   "metadata": {},
   "outputs": [],
   "source": []
  }
 ],
 "metadata": {
  "kernelspec": {
   "display_name": "Python 3",
   "language": "python",
   "name": "python3"
  },
  "language_info": {
   "codemirror_mode": {
    "name": "ipython",
    "version": 3
   },
   "file_extension": ".py",
   "mimetype": "text/x-python",
   "name": "python",
   "nbconvert_exporter": "python",
   "pygments_lexer": "ipython3",
   "version": "3.13.4"
  }
 },
 "nbformat": 4,
 "nbformat_minor": 5
}
